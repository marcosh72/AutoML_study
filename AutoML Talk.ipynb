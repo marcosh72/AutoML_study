{
 "cells": [
  {
   "cell_type": "code",
   "execution_count": 1,
   "metadata": {
    "collapsed": true,
    "slideshow": {
     "slide_type": "skip"
    }
   },
   "outputs": [],
   "source": [
    "import json\n",
    "import matplotlib as mpl\n",
    "mpl.rcParams['figure.dpi']= 300"
   ]
  },
  {
   "cell_type": "code",
   "execution_count": 2,
   "metadata": {
    "slideshow": {
     "slide_type": "notes"
    }
   },
   "outputs": [
    {
     "data": {
      "text/html": [
       "<style>\n",
       "\n",
       "# .CodeMirror {\n",
       "#     width: 100vw;\n",
       "# }\n",
       "\n",
       "# .container {\n",
       "#     width: 99% !important;\n",
       "# }\n",
       "\n",
       "# .rendered_html {\n",
       "#   font-size:0.8em;\n",
       "# }\n",
       "# .rendered_html table, .rendered_html th, .rendered_html tr, .rendered_html td {\n",
       "#      font-size: 100%;\n",
       "# }\n",
       "\n",
       ".rendered_html h1 {\n",
       "    font-size: 5em !important;\n",
       "}\n",
       "\n",
       ".rendered_html h2 {\n",
       "    font-size: 2.5em !important;\n",
       "}\n",
       "\n",
       ".rendered_html h3 {\n",
       "    font-size: 2em !important;\n",
       "}\n",
       "\n",
       ".rendered_html li, .rendered_html p {\n",
       "    font-size: 1.3em !important;\n",
       "}\n",
       "\n",
       "</style>"
      ],
      "text/plain": [
       "<IPython.core.display.HTML object>"
      ]
     },
     "metadata": {},
     "output_type": "display_data"
    }
   ],
   "source": [
    "%%HTML\n",
    "<style>\n",
    "\n",
    "# .CodeMirror {\n",
    "#     width: 100vw;\n",
    "# }\n",
    "\n",
    "# .container {\n",
    "#     width: 99% !important;\n",
    "# }\n",
    "\n",
    "# .rendered_html {\n",
    "#   font-size:0.8em;\n",
    "# }\n",
    "# .rendered_html table, .rendered_html th, .rendered_html tr, .rendered_html td {\n",
    "#      font-size: 100%;\n",
    "# }\n",
    "\n",
    ".rendered_html h1 {\n",
    "    font-size: 5em !important;\n",
    "}\n",
    "\n",
    ".rendered_html h2 {\n",
    "    font-size: 2.5em !important;\n",
    "}\n",
    "\n",
    ".rendered_html h3 {\n",
    "    font-size: 2em !important;\n",
    "}\n",
    "\n",
    ".rendered_html li, .rendered_html p {\n",
    "    font-size: 1.3em !important;\n",
    "}\n",
    "\n",
    "</style>"
   ]
  },
  {
   "cell_type": "markdown",
   "metadata": {
    "slideshow": {
     "slide_type": "slide"
    }
   },
   "source": [
    "# AutoML\n",
    "## Marcos Meyer Hollerweger"
   ]
  },
  {
   "cell_type": "markdown",
   "metadata": {
    "slideshow": {
     "slide_type": "slide"
    }
   },
   "source": [
    "### Motivação\n",
    "\n",
    "- Crescente sucesso do uso de machine learning nas mais diversas áreas desperta o interesse em não-especialistas\n",
    "- Nenhum modelo é perfeito, mas alguns são úteis\n",
    "- Nenhum algoritmo tem boa performance em todos os problemas\n",
    "- A performance de todos os algoritmos depende da escolha de hiper-parâmetros\n",
    "- Poder computacional é barato e virtualmente infinito"
   ]
  },
  {
   "cell_type": "markdown",
   "metadata": {
    "slideshow": {
     "slide_type": "slide"
    }
   },
   "source": [
    "### Definição de AutoML\n",
    "\n",
    "Seja $ \\boldsymbol{x}_i \\in \\mathbb{R}^d$ um vetor de atributos, e $y_i \\in Y$ os rótulos correspondentes de um conjunto de dados, para $ i = 1, ... , n+m$ exemplos. Seja $ D_{train} = {(\\boldsymbol{x}_1, y_1), ... , (\\boldsymbol{x}_n, y_n)} $ o conjunto de treinamento, e $ D_{test} = {(\\boldsymbol{x}_{n+1}, y_{n+1}), ... , (\\boldsymbol{x}_{n+m}, y_{n+m})} $ o conjunto de teste, ambos bons representantes de uma distribuição de dados.\n",
    "\n",
    "Também é definido um limite de recursos $b$ e uma métrica de perda $\\mathcal{L}$. Um sistema AutoML deve produzir predições para o conjunto de teste $ \\hat{y}_{n+1}, ... , \\hat{y}_{n+m} $, minimizando $\\mathcal{L}$, e não excedendo $b$."
   ]
  },
  {
   "cell_type": "markdown",
   "metadata": {
    "slideshow": {
     "slide_type": "slide"
    }
   },
   "source": [
    "### Como fazer isso\n",
    "\n",
    "- Problema CASH - Combined Algorithm Selection and Hyperparameter optimization\n",
    "- Definir um espaço que compreende todos os algoritmos e seus hiper-parâmetros, e encontrar a solução que minimiza a perda\n",
    "- Solução simples - Percorrer todo o espaço em busca da melhor solução\n",
    "- Solução inteligente - Otimização Bayesiana é útil para atacar os dois problemas"
   ]
  },
  {
   "cell_type": "markdown",
   "metadata": {
    "slideshow": {
     "slide_type": "slide"
    }
   },
   "source": [
    "### auto-sklearn\n",
    "\n",
    "- Emprega machine learning para criar modelos de machine learning - \"meta-learning\"\n",
    "- É capaz de inferir, através de modelos probabilísticos, os algoritmos com maior chance de sucesso, de acordo com as características do conjunto de dados\n",
    "- Construção automatizada de modelos ensemble - constrói modelo híbrido a partir de vários algoritmos, aumentando a robustez e diminuindo a chance de overfitting"
   ]
  },
  {
   "cell_type": "markdown",
   "metadata": {
    "slideshow": {
     "slide_type": "slide"
    }
   },
   "source": [
    "### auto-sklearn\n",
    "\n",
    "![auto-sklearn1](img/1.png)"
   ]
  },
  {
   "cell_type": "markdown",
   "metadata": {
    "slideshow": {
     "slide_type": "slide"
    }
   },
   "source": [
    "### auto-sklearn\n",
    "\n",
    "14 algoritmos de classificação\n",
    "\n",
    "![auto-sklearn2](img/2.png)"
   ]
  },
  {
   "cell_type": "markdown",
   "metadata": {
    "slideshow": {
     "slide_type": "slide"
    }
   },
   "source": [
    "### auto-sklearn\n",
    "\n",
    "15 métodos de pré-processamento\n",
    "\n",
    "![auto-sklearn3](img/3.png)"
   ]
  },
  {
   "cell_type": "code",
   "execution_count": 3,
   "metadata": {
    "collapsed": true,
    "slideshow": {
     "slide_type": "skip"
    }
   },
   "outputs": [],
   "source": [
    "import pandas as pd\n",
    "import numpy as np\n",
    "\n",
    "import sklearn.model_selection\n",
    "import sklearn.datasets\n",
    "import sklearn.metrics\n",
    "import matplotlib.pyplot as plt \n",
    "%matplotlib inline\n",
    "import autosklearn.regression\n",
    "import autosklearn.classification"
   ]
  },
  {
   "cell_type": "markdown",
   "metadata": {
    "slideshow": {
     "slide_type": "slide"
    }
   },
   "source": [
    "### Exemplos!"
   ]
  },
  {
   "cell_type": "code",
   "execution_count": 4,
   "metadata": {
    "slideshow": {
     "slide_type": "-"
    }
   },
   "outputs": [
    {
     "data": {
      "text/html": [
       "<div>\n",
       "<style>\n",
       "    .dataframe thead tr:only-child th {\n",
       "        text-align: right;\n",
       "    }\n",
       "\n",
       "    .dataframe thead th {\n",
       "        text-align: left;\n",
       "    }\n",
       "\n",
       "    .dataframe tbody tr th {\n",
       "        vertical-align: top;\n",
       "    }\n",
       "</style>\n",
       "<table border=\"1\" class=\"dataframe\">\n",
       "  <thead>\n",
       "    <tr style=\"text-align: right;\">\n",
       "      <th></th>\n",
       "      <th>0</th>\n",
       "      <th>1</th>\n",
       "      <th>2</th>\n",
       "      <th>3</th>\n",
       "      <th>4</th>\n",
       "      <th>5</th>\n",
       "      <th>6</th>\n",
       "      <th>7</th>\n",
       "      <th>8</th>\n",
       "      <th>9</th>\n",
       "      <th>10</th>\n",
       "      <th>11</th>\n",
       "      <th>12</th>\n",
       "    </tr>\n",
       "  </thead>\n",
       "  <tbody>\n",
       "    <tr>\n",
       "      <th>0</th>\n",
       "      <td>0.00632</td>\n",
       "      <td>18.0</td>\n",
       "      <td>2.31</td>\n",
       "      <td>0.0</td>\n",
       "      <td>0.538</td>\n",
       "      <td>6.575</td>\n",
       "      <td>65.2</td>\n",
       "      <td>4.0900</td>\n",
       "      <td>1.0</td>\n",
       "      <td>296.0</td>\n",
       "      <td>15.3</td>\n",
       "      <td>396.90</td>\n",
       "      <td>4.98</td>\n",
       "    </tr>\n",
       "    <tr>\n",
       "      <th>1</th>\n",
       "      <td>0.02731</td>\n",
       "      <td>0.0</td>\n",
       "      <td>7.07</td>\n",
       "      <td>0.0</td>\n",
       "      <td>0.469</td>\n",
       "      <td>6.421</td>\n",
       "      <td>78.9</td>\n",
       "      <td>4.9671</td>\n",
       "      <td>2.0</td>\n",
       "      <td>242.0</td>\n",
       "      <td>17.8</td>\n",
       "      <td>396.90</td>\n",
       "      <td>9.14</td>\n",
       "    </tr>\n",
       "    <tr>\n",
       "      <th>2</th>\n",
       "      <td>0.02729</td>\n",
       "      <td>0.0</td>\n",
       "      <td>7.07</td>\n",
       "      <td>0.0</td>\n",
       "      <td>0.469</td>\n",
       "      <td>7.185</td>\n",
       "      <td>61.1</td>\n",
       "      <td>4.9671</td>\n",
       "      <td>2.0</td>\n",
       "      <td>242.0</td>\n",
       "      <td>17.8</td>\n",
       "      <td>392.83</td>\n",
       "      <td>4.03</td>\n",
       "    </tr>\n",
       "    <tr>\n",
       "      <th>3</th>\n",
       "      <td>0.03237</td>\n",
       "      <td>0.0</td>\n",
       "      <td>2.18</td>\n",
       "      <td>0.0</td>\n",
       "      <td>0.458</td>\n",
       "      <td>6.998</td>\n",
       "      <td>45.8</td>\n",
       "      <td>6.0622</td>\n",
       "      <td>3.0</td>\n",
       "      <td>222.0</td>\n",
       "      <td>18.7</td>\n",
       "      <td>394.63</td>\n",
       "      <td>2.94</td>\n",
       "    </tr>\n",
       "    <tr>\n",
       "      <th>4</th>\n",
       "      <td>0.06905</td>\n",
       "      <td>0.0</td>\n",
       "      <td>2.18</td>\n",
       "      <td>0.0</td>\n",
       "      <td>0.458</td>\n",
       "      <td>7.147</td>\n",
       "      <td>54.2</td>\n",
       "      <td>6.0622</td>\n",
       "      <td>3.0</td>\n",
       "      <td>222.0</td>\n",
       "      <td>18.7</td>\n",
       "      <td>396.90</td>\n",
       "      <td>5.33</td>\n",
       "    </tr>\n",
       "  </tbody>\n",
       "</table>\n",
       "</div>"
      ],
      "text/plain": [
       "        0     1     2    3      4      5     6       7    8      9     10  \\\n",
       "0  0.00632  18.0  2.31  0.0  0.538  6.575  65.2  4.0900  1.0  296.0  15.3   \n",
       "1  0.02731   0.0  7.07  0.0  0.469  6.421  78.9  4.9671  2.0  242.0  17.8   \n",
       "2  0.02729   0.0  7.07  0.0  0.469  7.185  61.1  4.9671  2.0  242.0  17.8   \n",
       "3  0.03237   0.0  2.18  0.0  0.458  6.998  45.8  6.0622  3.0  222.0  18.7   \n",
       "4  0.06905   0.0  2.18  0.0  0.458  7.147  54.2  6.0622  3.0  222.0  18.7   \n",
       "\n",
       "       11    12  \n",
       "0  396.90  4.98  \n",
       "1  396.90  9.14  \n",
       "2  392.83  4.03  \n",
       "3  394.63  2.94  \n",
       "4  396.90  5.33  "
      ]
     },
     "execution_count": 4,
     "metadata": {},
     "output_type": "execute_result"
    }
   ],
   "source": [
    "X, y = sklearn.datasets.load_boston(return_X_y=True)\n",
    "pd.DataFrame(X).head()"
   ]
  },
  {
   "cell_type": "code",
   "execution_count": 5,
   "metadata": {
    "slideshow": {
     "slide_type": "slide"
    }
   },
   "outputs": [
    {
     "name": "stdout",
     "output_type": "stream",
     "text": [
      "[WARNING] [2018-06-07 05:09:22,451:AutoMLSMBO(1)::boston] Could not find meta-data directory /usr/local/lib/python3.5/dist-packages/autosklearn/metalearning/files/r2_regression_dense\n"
     ]
    }
   ],
   "source": [
    "feature_types = (['numerical'] * 3) + ['categorical'] + (['numerical'] * 9)\n",
    "\n",
    "X_train, X_test, y_train, y_test = \\\n",
    "    sklearn.model_selection.train_test_split(X, y, random_state=1)\n",
    "\n",
    "automl = autosklearn.regression.AutoSklearnRegressor(\n",
    "    time_left_for_this_task=120, per_run_time_limit=30,\n",
    "    tmp_folder='/tmp/autoslearn_regression_example_tmp',\n",
    "    output_folder='/tmp/autosklearn_regression_example_out')\n",
    "\n",
    "automl.fit(X_train, y_train, dataset_name='boston',\n",
    "           feat_type=feature_types)"
   ]
  },
  {
   "cell_type": "code",
   "execution_count": 6,
   "metadata": {
    "slideshow": {
     "slide_type": "slide"
    }
   },
   "outputs": [
    {
     "name": "stdout",
     "output_type": "stream",
     "text": [
      "R2 score: 0.883079496654\n",
      "RMSE score: 11.5819665889\n"
     ]
    }
   ],
   "source": [
    "predictions = automl.predict(X_test)\n",
    "print(\"R2 score:\", sklearn.metrics.r2_score(y_test, predictions))\n",
    "print(\"RMSE score:\", sklearn.metrics.mean_squared_error(y_test, predictions))"
   ]
  },
  {
   "cell_type": "code",
   "execution_count": 7,
   "metadata": {
    "slideshow": {
     "slide_type": "slide"
    }
   },
   "outputs": [
    {
     "data": {
      "text/plain": [
       "[<matplotlib.lines.Line2D at 0x7fed734daa90>]"
      ]
     },
     "execution_count": 7,
     "metadata": {},
     "output_type": "execute_result"
    },
    {
     "data": {
      "image/png": "[encoded data removed]",
      "text/plain": [
       "<matplotlib.figure.Figure at 0x7fed734da5f8>"
      ]
     },
     "metadata": {},
     "output_type": "display_data"
    }
   ],
   "source": [
    "predictions = automl.predict(X_train)\n",
    "\n",
    "order = np.argsort(predictions)\n",
    "plt.plot(y_train[order])\n",
    "plt.plot(np.sort(predictions))"
   ]
  },
  {
   "cell_type": "code",
   "execution_count": 8,
   "metadata": {
    "slideshow": {
     "slide_type": "slide"
    }
   },
   "outputs": [
    {
     "name": "stdout",
     "output_type": "stream",
     "text": [
      "[(0.720000, SimpleRegressionPipeline({'categorical_encoding:one_hot_encoding:use_minimum_fraction': 'True', 'preprocessor:__choice__': 'no_preprocessing', 'regressor:random_forest:min_weight_fraction_leaf': 0.0, 'regressor:random_forest:min_samples_leaf': 1, 'regressor:__choice__': 'random_forest', 'rescaling:__choice__': 'standardize', 'regressor:random_forest:min_samples_split': 2, 'categorical_encoding:__choice__': 'one_hot_encoding', 'regressor:random_forest:max_features': 1.0, 'imputation:strategy': 'mean', 'regressor:random_forest:criterion': 'mse', 'regressor:random_forest:min_impurity_decrease': 0.0, 'regressor:random_forest:bootstrap': 'True', 'regressor:random_forest:max_depth': 'None', 'categorical_encoding:one_hot_encoding:minimum_fraction': 0.01, 'regressor:random_forest:n_estimators': 100, 'regressor:random_forest:max_leaf_nodes': 'None'},\n",
      "dataset_properties={\n",
      "  'target_type': 'regression',\n",
      "  'signed': False,\n",
      "  'sparse': False,\n",
      "  'multilabel': False,\n",
      "  'task': 4,\n",
      "  'multiclass': False})),\n",
      "(0.160000, SimpleRegressionPipeline({'categorical_encoding:one_hot_encoding:use_minimum_fraction': 'True', 'preprocessor:__choice__': 'no_preprocessing', 'regressor:gradient_boosting:min_samples_leaf': 3, 'regressor:gradient_boosting:loss': 'ls', 'regressor:__choice__': 'gradient_b\n"
     ]
    }
   ],
   "source": [
    "print(automl.show_models()[:1300])"
   ]
  },
  {
   "cell_type": "markdown",
   "metadata": {
    "slideshow": {
     "slide_type": "slide"
    }
   },
   "source": [
    "### Exercício 3 - Dataset Iris "
   ]
  },
  {
   "cell_type": "code",
   "execution_count": 9,
   "metadata": {
    "slideshow": {
     "slide_type": "-"
    }
   },
   "outputs": [
    {
     "data": {
      "text/html": [
       "<div>\n",
       "<style>\n",
       "    .dataframe thead tr:only-child th {\n",
       "        text-align: right;\n",
       "    }\n",
       "\n",
       "    .dataframe thead th {\n",
       "        text-align: left;\n",
       "    }\n",
       "\n",
       "    .dataframe tbody tr th {\n",
       "        vertical-align: top;\n",
       "    }\n",
       "</style>\n",
       "<table border=\"1\" class=\"dataframe\">\n",
       "  <thead>\n",
       "    <tr style=\"text-align: right;\">\n",
       "      <th></th>\n",
       "      <th>0</th>\n",
       "      <th>1</th>\n",
       "      <th>2</th>\n",
       "      <th>3</th>\n",
       "    </tr>\n",
       "  </thead>\n",
       "  <tbody>\n",
       "    <tr>\n",
       "      <th>0</th>\n",
       "      <td>5.1</td>\n",
       "      <td>3.5</td>\n",
       "      <td>1.4</td>\n",
       "      <td>0.2</td>\n",
       "    </tr>\n",
       "    <tr>\n",
       "      <th>1</th>\n",
       "      <td>4.9</td>\n",
       "      <td>3.0</td>\n",
       "      <td>1.4</td>\n",
       "      <td>0.2</td>\n",
       "    </tr>\n",
       "    <tr>\n",
       "      <th>2</th>\n",
       "      <td>4.7</td>\n",
       "      <td>3.2</td>\n",
       "      <td>1.3</td>\n",
       "      <td>0.2</td>\n",
       "    </tr>\n",
       "    <tr>\n",
       "      <th>3</th>\n",
       "      <td>4.6</td>\n",
       "      <td>3.1</td>\n",
       "      <td>1.5</td>\n",
       "      <td>0.2</td>\n",
       "    </tr>\n",
       "    <tr>\n",
       "      <th>4</th>\n",
       "      <td>5.0</td>\n",
       "      <td>3.6</td>\n",
       "      <td>1.4</td>\n",
       "      <td>0.2</td>\n",
       "    </tr>\n",
       "  </tbody>\n",
       "</table>\n",
       "</div>"
      ],
      "text/plain": [
       "     0    1    2    3\n",
       "0  5.1  3.5  1.4  0.2\n",
       "1  4.9  3.0  1.4  0.2\n",
       "2  4.7  3.2  1.3  0.2\n",
       "3  4.6  3.1  1.5  0.2\n",
       "4  5.0  3.6  1.4  0.2"
      ]
     },
     "execution_count": 9,
     "metadata": {},
     "output_type": "execute_result"
    }
   ],
   "source": [
    "X, y = sklearn.datasets.load_iris(return_X_y=True)\n",
    "pd.DataFrame(X).head()"
   ]
  },
  {
   "cell_type": "code",
   "execution_count": 10,
   "metadata": {
    "slideshow": {
     "slide_type": "slide"
    }
   },
   "outputs": [],
   "source": [
    "X_train, X_test, y_train, y_test = \\\n",
    "        sklearn.model_selection.train_test_split(X, y, random_state=1)\n",
    "    \n",
    "automl = autosklearn.classification.AutoSklearnClassifier(\n",
    "    time_left_for_this_task=120, per_run_time_limit=30,\n",
    "    tmp_folder='/tmp/autoslearn_classification_example_tmp',\n",
    "    output_folder='/tmp/autosklearn_classification_example_out')\n",
    "\n",
    "automl.fit(X_train, y_train)"
   ]
  },
  {
   "cell_type": "code",
   "execution_count": 11,
   "metadata": {
    "slideshow": {
     "slide_type": "-"
    }
   },
   "outputs": [
    {
     "name": "stdout",
     "output_type": "stream",
     "text": [
      "Accuracy score 0.973684210526\n"
     ]
    }
   ],
   "source": [
    "y_hat = automl.predict(X_test)\n",
    "print(\"Accuracy score\", sklearn.metrics.accuracy_score(y_test, y_hat))"
   ]
  },
  {
   "cell_type": "code",
   "execution_count": 13,
   "metadata": {
    "slideshow": {
     "slide_type": "slide"
    }
   },
   "outputs": [
    {
     "name": "stdout",
     "output_type": "stream",
     "text": [
      "[(0.920000, SimpleClassificationPipeline({'balancing:strategy': 'weighting', 'classifier:__choice__': 'extra_trees', 'classifier:extra_trees:min_samples_leaf': 16, 'preprocessor:extra_trees_preproc_for_classification:min_weight_fraction_leaf': 0.0, 'rescaling:__choice__': 'none', 'preprocessor:extra_trees_preproc_for_classification:max_leaf_nodes': 'None', 'classifier:extra_trees:min_impurity_decrease': 0.0, 'preprocessor:extra_trees_preproc_for_classification:n_estimators': 100, 'classifier:extra_trees:min_weight_fraction_leaf': 0.0, 'classifier:extra_trees:min_samples_split': 14, 'classifier:extra_trees:bootstrap': 'False', 'classifier:extra_trees:criterion': 'entropy', 'preprocessor:extra_trees_preproc_for_classification:min_samples_leaf': 2, 'preprocessor:__choice__': 'extra_trees_preproc_for_classification', 'classifier:extra_trees:max_depth': 'None', 'preprocessor:extra_trees_preproc_for_classification:max_depth': 'None', 'preprocessor:extra_trees_preproc_for_classification:min_impurity_decrease': 0.0, 'classifier:extra_trees:max_leaf_nodes': 'None', 'classifier:extra_trees:n_estimators': 100, 'categorical_encoding:__choice__': 'no_encoding', 'preprocessor:extra_trees_preproc_for_classification:criterion': 'entropy', 'preprocessor:extra_trees_preproc_for_classification:boot\n"
     ]
    }
   ],
   "source": [
    "print(automl.show_models()[:1300])"
   ]
  },
  {
   "cell_type": "markdown",
   "metadata": {
    "slideshow": {
     "slide_type": "slide"
    }
   },
   "source": [
    "### Aplicações com imagem"
   ]
  },
  {
   "cell_type": "code",
   "execution_count": 12,
   "metadata": {
    "slideshow": {
     "slide_type": "-"
    }
   },
   "outputs": [
    {
     "data": {
      "text/html": [
       "<iframe width=\"560\" height=\"315\" src=\"https://www.youtube.com/embed/GbLQE2C181U\" frameborder=\"0\" allow=\"autoplay; encrypted-media\" allowfullscreen></iframe>"
      ],
      "text/plain": [
       "<IPython.core.display.HTML object>"
      ]
     },
     "metadata": {},
     "output_type": "display_data"
    }
   ],
   "source": [
    "%%HTML\n",
    "<iframe width=\"560\" height=\"315\" src=\"https://www.youtube.com/embed/GbLQE2C181U\" frameborder=\"0\" allow=\"autoplay; encrypted-media\" allowfullscreen></iframe>"
   ]
  }
 ],
 "metadata": {
  "celltoolbar": "Slideshow",
  "kernelspec": {
   "display_name": "Python 3",
   "language": "python",
   "name": "python3"
  },
  "language_info": {
   "codemirror_mode": {
    "name": "ipython",
    "version": 3
   },
   "file_extension": ".py",
   "mimetype": "text/x-python",
   "name": "python",
   "nbconvert_exporter": "python",
   "pygments_lexer": "ipython3",
   "version": "3.5.2"
  }
 },
 "nbformat": 4,
 "nbformat_minor": 2
}
